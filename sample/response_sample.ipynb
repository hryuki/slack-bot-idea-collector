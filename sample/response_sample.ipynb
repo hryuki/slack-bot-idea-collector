{
 "cells": [
  {
   "cell_type": "code",
   "execution_count": 1,
   "metadata": {},
   "outputs": [
    {
     "name": "stdout",
     "output_type": "stream",
     "text": [
      "{'actions': [{'action_id': 'cancel-button',\n",
      "              'action_ts': '1744522532.589450',\n",
      "              'block_id': 'button-block',\n",
      "              'text': {'emoji': True, 'text': 'キャンセル', 'type': 'plain_text'},\n",
      "              'type': 'button',\n",
      "              'value': 'clicked'}],\n",
      " 'api_app_id': 'A08NLDK3JJC',\n",
      " 'channel': {'id': 'D08MHRKKWLX', 'name': 'directmessage'},\n",
      " 'container': {'channel_id': 'D08MHRKKWLX',\n",
      "               'is_ephemeral': False,\n",
      "               'message_ts': '1744522296.434229',\n",
      "               'type': 'message'},\n",
      " 'enterprise': None,\n",
      " 'is_enterprise_install': False,\n",
      " 'message': {'app_id': 'A08NLDK3JJC',\n",
      "             'blocks': [{'block_id': 'message-block',\n",
      "                         'text': {'text': 'アイデアをデータベースに追加しますか？',\n",
      "                                  'type': 'mrkdwn',\n",
      "                                  'verbatim': False},\n",
      "                         'type': 'section'},\n",
      "                        {'block_id': 'button-block',\n",
      "                         'elements': [{'action_id': 'add-idea-button',\n",
      "                                       'text': {'emoji': True,\n",
      "                                                'text': 'アイデアを追加する',\n",
      "                                                'type': 'plain_text'},\n",
      "                                       'type': 'button',\n",
      "                                       'value': 'clicked'},\n",
      "                                      {'action_id': 'cancel-button',\n",
      "                                       'text': {'emoji': True,\n",
      "                                                'text': 'キャンセル',\n",
      "                                                'type': 'plain_text'},\n",
      "                                       'type': 'button',\n",
      "                                       'value': 'clicked'}],\n",
      "                         'type': 'actions'}],\n",
      "             'bot_id': 'B08MHRKJWB1',\n",
      "             'team': 'T0638RPB7NV',\n",
      "             'text': 'アイデアをデータベースに追加しますか？',\n",
      "             'ts': '1744522296.434229',\n",
      "             'type': 'message',\n",
      "             'user': 'U08MHRKJZJB'},\n",
      " 'response_url': 'https://hooks.slack.com/actions/T0638RPB7NV/8732053345031/S1Tjx814xJyKSpQeRBLddwpX',\n",
      " 'state': {'values': {}},\n",
      " 'team': {'domain': 'devhorislackapi', 'id': 'T0638RPB7NV'},\n",
      " 'token': 'kqCidXn7Gg1ukUXDpy88ctVq',\n",
      " 'trigger_id': '8732053371495.6110873381777.2f69d407a992118ccccd9140427dfd9a',\n",
      " 'type': 'block_actions',\n",
      " 'user': {'id': 'U063K6NL588',\n",
      "          'name': 'hryuki200212',\n",
      "          'team_id': 'T0638RPB7NV',\n",
      "          'username': 'hryuki200212'}}\n"
     ]
    }
   ],
   "source": [
    "from pprint import pprint\n",
    "pprint({'type': 'block_actions', 'user': {'id': 'U063K6NL588', 'username': 'hryuki200212', 'name': 'hryuki200212', 'team_id': 'T0638RPB7NV'}, 'api_app_id': 'A08NLDK3JJC', 'token': 'kqCidXn7Gg1ukUXDpy88ctVq', 'container': {'type': 'message', 'message_ts': '1744522296.434229', 'channel_id': 'D08MHRKKWLX', 'is_ephemeral': False}, 'trigger_id': '8732053371495.6110873381777.2f69d407a992118ccccd9140427dfd9a', 'team': {'id': 'T0638RPB7NV', 'domain': 'devhorislackapi'}, 'enterprise': None, 'is_enterprise_install': False, 'channel': {'id': 'D08MHRKKWLX', 'name': 'directmessage'}, 'message': {'user': 'U08MHRKJZJB', 'type': 'message', 'ts': '1744522296.434229', 'bot_id': 'B08MHRKJWB1', 'app_id': 'A08NLDK3JJC', 'text': 'アイデアをデータベースに追加しますか？', 'team': 'T0638RPB7NV', 'blocks': [{'type': 'section', 'block_id': 'message-block', 'text': {'type': 'mrkdwn', 'text': 'アイデアをデータベースに追加しますか？', 'verbatim': False}}, {'type': 'actions', 'block_id': 'button-block', 'elements': [{'type': 'button', 'action_id': 'add-idea-button', 'text': {'type': 'plain_text', 'text': 'アイデアを追加する', 'emoji': True}, 'value': 'clicked'}, {'type': 'button', 'action_id': 'cancel-button', 'text': {'type': 'plain_text', 'text': 'キャンセル', 'emoji': True}, 'value': 'clicked'}]}]}, 'state': {'values': {}}, 'response_url': 'https://hooks.slack.com/actions/T0638RPB7NV/8732053345031/S1Tjx814xJyKSpQeRBLddwpX', 'actions': [{'action_id': 'cancel-button', 'block_id': 'button-block', 'text': {'type': 'plain_text', 'text': 'キャンセル', 'emoji': True}, 'value': 'clicked', 'type': 'button', 'action_ts': '1744522532.589450'}]})"
   ]
  },
  {
   "cell_type": "code",
   "execution_count": 2,
   "metadata": {},
   "outputs": [
    {
     "name": "stdout",
     "output_type": "stream",
     "text": [
      "{'has_more': False,\n",
      " 'messages': [{'blocks': [{'block_id': 'f0HCs',\n",
      "                           'elements': [{'elements': [{'text': 'こんにちは',\n",
      "                                                       'type': 'text'}],\n",
      "                                         'type': 'rich_text_section'}],\n",
      "                           'type': 'rich_text'}],\n",
      "               'client_msg_id': '6ccaa74c-8662-46ad-a6cf-c29a2367f7cb',\n",
      "               'is_locked': False,\n",
      "               'latest_reply': '1744524256.258359',\n",
      "               'reply_count': 1,\n",
      "               'reply_users': ['U08MHRKJZJB'],\n",
      "               'reply_users_count': 1,\n",
      "               'subscribed': False,\n",
      "               'team': 'T0638RPB7NV',\n",
      "               'text': 'こんにちは',\n",
      "               'thread_ts': '1744524253.732129',\n",
      "               'ts': '1744524253.732129',\n",
      "               'type': 'message',\n",
      "               'user': 'U063K6NL588'},\n",
      "              {'app_id': 'A08NLDK3JJC',\n",
      "               'blocks': [{'block_id': 'U6Be',\n",
      "                           'elements': [{'elements': [{'text': 'アイデアを追加します。\\n'\n",
      "                                                               'しばらくお待ちください。',\n",
      "                                                       'type': 'text'}],\n",
      "                                         'type': 'rich_text_section'}],\n",
      "                           'type': 'rich_text'}],\n",
      "               'bot_id': 'B08MHRKJWB1',\n",
      "               'bot_profile': {'app_id': 'A08NLDK3JJC',\n",
      "                               'deleted': False,\n",
      "                               'icons': {'image_36': 'https://a.slack-edge.com/80588/img/plugins/app/bot_36.png',\n",
      "                                         'image_48': 'https://a.slack-edge.com/80588/img/plugins/app/bot_48.png',\n",
      "                                         'image_72': 'https://a.slack-edge.com/80588/img/plugins/app/service_72.png'},\n",
      "                               'id': 'B08MHRKJWB1',\n",
      "                               'name': 'idea_collector',\n",
      "                               'team_id': 'T0638RPB7NV',\n",
      "                               'updated': 1744513170,\n",
      "                               'user_id': 'U08MHRKJZJB'},\n",
      "               'edited': {'ts': '1744524259.000000', 'user': 'B08MHRKJWB1'},\n",
      "               'parent_user_id': 'U063K6NL588',\n",
      "               'team': 'T0638RPB7NV',\n",
      "               'text': 'アイデアを追加します。\\nしばらくお待ちください。',\n",
      "               'thread_ts': '1744524253.732129',\n",
      "               'ts': '1744524256.258359',\n",
      "               'type': 'message',\n",
      "               'user': 'U08MHRKJZJB'}],\n",
      " 'ok': True}\n"
     ]
    }
   ],
   "source": [
    "pprint({'ok': True, 'messages': [{'user': 'U063K6NL588', 'type': 'message', 'ts': '1744524253.732129', 'client_msg_id': '6ccaa74c-8662-46ad-a6cf-c29a2367f7cb', 'text': 'こんにちは', 'team': 'T0638RPB7NV', 'thread_ts': '1744524253.732129', 'reply_count': 1, 'reply_users_count': 1, 'latest_reply': '1744524256.258359', 'reply_users': ['U08MHRKJZJB'], 'is_locked': False, 'subscribed': False, 'blocks': [{'type': 'rich_text', 'block_id': 'f0HCs', 'elements': [{'type': 'rich_text_section', 'elements': [{'type': 'text', 'text': 'こんにちは'}]}]}]}, {'user': 'U08MHRKJZJB', 'type': 'message', 'ts': '1744524256.258359', 'edited': {'user': 'B08MHRKJWB1', 'ts': '1744524259.000000'}, 'bot_id': 'B08MHRKJWB1', 'app_id': 'A08NLDK3JJC', 'text': 'アイデアを追加します。\\nしばらくお待ちください。', 'team': 'T0638RPB7NV', 'bot_profile': {'id': 'B08MHRKJWB1', 'deleted': False, 'name': 'idea_collector', 'updated': 1744513170, 'app_id': 'A08NLDK3JJC', 'user_id': 'U08MHRKJZJB', 'icons': {'image_36': 'https://a.slack-edge.com/80588/img/plugins/app/bot_36.png', 'image_48': 'https://a.slack-edge.com/80588/img/plugins/app/bot_48.png', 'image_72': 'https://a.slack-edge.com/80588/img/plugins/app/service_72.png'}, 'team_id': 'T0638RPB7NV'}, 'thread_ts': '1744524253.732129', 'parent_user_id': 'U063K6NL588', 'blocks': [{'type': 'rich_text', 'block_id': 'U6Be', 'elements': [{'type': 'rich_text_section', 'elements': [{'type': 'text', 'text': 'アイデアを追加します。\\nしばらくお待ちください。'}]}]}]}], 'has_more': False})"
   ]
  },
  {
   "cell_type": "code",
   "execution_count": null,
   "metadata": {},
   "outputs": [],
   "source": []
  }
 ],
 "metadata": {
  "kernelspec": {
   "display_name": "venv",
   "language": "python",
   "name": "python3"
  },
  "language_info": {
   "codemirror_mode": {
    "name": "ipython",
    "version": 3
   },
   "file_extension": ".py",
   "mimetype": "text/x-python",
   "name": "python",
   "nbconvert_exporter": "python",
   "pygments_lexer": "ipython3",
   "version": "3.11.2"
  }
 },
 "nbformat": 4,
 "nbformat_minor": 2
}
